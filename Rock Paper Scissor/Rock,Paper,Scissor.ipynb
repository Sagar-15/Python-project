{
  "nbformat": 4,
  "nbformat_minor": 0,
  "metadata": {
    "colab": {
      "provenance": []
    },
    "kernelspec": {
      "name": "python3",
      "display_name": "Python 3"
    },
    "language_info": {
      "name": "python"
    }
  },
  "cells": [
    {
      "cell_type": "code",
      "execution_count": null,
      "metadata": {
        "id": "_fBnRFPXtop5"
      },
      "outputs": [],
      "source": [
        "import random\n",
        "\n",
        "while True:\n",
        "  choices = [\"rock\",\"paper\",\"scissor\"]\n",
        "\n",
        "  computer = random.choice(choices)\n",
        "\n",
        "  player = None\n",
        "  while player not in choices:\n",
        "    player = input(\"Choose rock, paper, scissor : \").lower()\n",
        "\n",
        "  if player == computer:\n",
        "    print(\"Computers : \",computer)\n",
        "    print(\"players : \",player)\n",
        "    print(\"TIE\")\n",
        "  elif player == \"rock\":\n",
        "    if computer == \"scissor\":\n",
        "      print(\"Computers : \",computer)\n",
        "      print(\"players : \",player)\n",
        "      print(\"You Won\")\n",
        "    if computer == \"paper\":\n",
        "      print(\"Computers : \",computer)\n",
        "      print(\"players : \",player)\n",
        "      print(\"You Lose\")\n",
        "\n",
        "  elif player == \"scissor\":\n",
        "    if computer == \"rock\":\n",
        "      print(\"Computers : \",computer)\n",
        "      print(\"players : \",player)\n",
        "      print(\"You Won\")\n",
        "    if computer == \"paper\":\n",
        "      print(\"Computers : \",computer)\n",
        "      print(\"players : \",player)\n",
        "      print(\"You Lose\")\n",
        "\n",
        "  elif player == \"paper\":\n",
        "    if computer == \"scissor\":\n",
        "      print(\"Computers : \",computer)\n",
        "      print(\"players : \",player)\n",
        "      print(\"You Won\")\n",
        "    if computer == \"rock\":\n",
        "      print(\"Computers : \",computer)\n",
        "      print(\"players : \",player)\n",
        "      print(\"You Lose\")\n",
        "\n",
        "  play_again = input(\"Play again Yes/No : \").lower()\n",
        "  if play_again != \"yes\":\n",
        "    break\n",
        "print(\"Bye !\")\n",
        "\n",
        "\n"
      ]
    },
    {
      "cell_type": "code",
      "source": [],
      "metadata": {
        "id": "-hxuX_6WwC93"
      },
      "execution_count": null,
      "outputs": []
    }
  ]
}